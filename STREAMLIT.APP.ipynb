{
 "cells": [
  {
   "cell_type": "markdown",
   "id": "6fd56a02-91c9-4f69-8505-770e9b977406",
   "metadata": {},
   "source": [
    "Objectif du point de contrôle\n",
    "Créez une application Streamlit qui prédit le type de fleur d’iris en fonction des entrées de l’utilisateur à l’aide d’un classificateur de forêt aléatoire.\n",
    "\n",
    "Instructions\n",
    "Importez les bibliothèques nécessaires : Streamlit, sklearn.datasets et sklearn.ensemble.\n",
    "Chargez le jeu de données iris à l’aide de la fonction « datasets.load_iris() » et affectez les données et les variables cibles à « X » et « Y », respectivement.\n",
    "Configurez un classificateur de forêt aléatoire et ajustez le modèle à l’aide des fonctions « RandomForestClassifier() » et « fit() ».\n",
    "Créez une application Streamlit à l’aide des fonctions « streamlit.title() » et « streamlit.header() » pour ajouter un titre et un en-tête à l’application.\n",
    "Ajoutez des champs de saisie pour la longueur du sépale, la largeur du sépale, la longueur des pétales et la largeur des pétales à l’aide de la fonction « streamlit.slider() ». Utilisez les valeurs minimale, maximale et moyenne de chaque entité comme arguments pour la fonction.\n",
    "Définissez un bouton de prédiction à l’aide de la fonction « streamlit.button() » qui prend en compte les valeurs d’entrée et utilise le classificateur pour prédire le type de fleur d’iris.\n",
    "Utilisez la fonction « streamlit.write() » pour afficher le type de fleur d’iris prévu sur l’application.\n",
    "Déployer votre application streamlit avec streamlit share\n",
    "Note: Assurez-vous d’exécuter l’application à l’aide de la commande « streamlit run » dans votre terminal.\n",
    "\n",
    " "
   ]
  },
  {
   "cell_type": "code",
   "execution_count": 38,
   "id": "f3370d21-3199-4b08-b5ff-be916374db13",
   "metadata": {
    "tags": []
   },
   "outputs": [],
   "source": [
    "import streamlit as st\n",
    "from sklearn.datasets import load_iris\n",
    "from sklearn.model_selection import train_test_split\n",
    "from sklearn.ensemble import RandomForestClassifier \n",
    "from sklearn import datasets \n",
    "import pandas as pd\n",
    "from sklearn import metrics\n",
    "import matplotlib.pyplot as plt\n",
    "import seaborn as sns\n",
    "import os\n",
    "from PIL import Image"
   ]
  },
  {
   "cell_type": "code",
   "execution_count": 39,
   "id": "d61a0534-f6c0-4373-9759-cc0d9642fdf4",
   "metadata": {
    "tags": []
   },
   "outputs": [],
   "source": [
    "# Loading the iris plants dataset (classification)\n",
    "iris = datasets.load_iris()\n",
    "iris.target_names\n",
    "data = pd.DataFrame({'sepallength': iris.data[:, 0], 'sepalwidth': iris.data[:, 1],\n",
    "                     'petallength': iris.data[:, 2], 'petalwidth': iris.data[:, 3],\n",
    "                     'species': iris.target})"
   ]
  },
  {
   "cell_type": "code",
   "execution_count": 40,
   "id": "de985245-6f2f-4f32-9a66-6b81f85e12b9",
   "metadata": {
    "tags": []
   },
   "outputs": [],
   "source": [
    "# affectATION Des données et les variables cibles à « X » et « Y »\n",
    "X, y = datasets.load_iris( return_X_y = True)"
   ]
  },
  {
   "cell_type": "code",
   "execution_count": 41,
   "id": "51b61c97-4264-40f6-b6ff-96cde85c27ca",
   "metadata": {
    "tags": []
   },
   "outputs": [],
   "source": [
    "#Division du jeu de donnée en deux ensemble: enrainement  80 % et de test 20 % \n",
    "X_train, X_test, y_train, y_test = train_test_split(X, y, test_size = 0.20)"
   ]
  },
  {
   "cell_type": "markdown",
   "id": "20917e00-7532-4e23-877d-727ae594f83b",
   "metadata": {},
   "source": [
    "## Configurez un classificateur de forêt aléatoire et ajustez le modèle à l’aide des fonctions « RandomForestClassifier() » et « fit() »."
   ]
  },
  {
   "cell_type": "code",
   "execution_count": 42,
   "id": "878b3e11-326c-4e96-8bd5-614cdd9d7be3",
   "metadata": {
    "tags": []
   },
   "outputs": [
    {
     "name": "stdout",
     "output_type": "stream",
     "text": [
      "ACCURACY OF THE MODEL:  0.9666666666666667\n"
     ]
    }
   ],
   "source": [
    "# creating a RF classifier\n",
    "model = RandomForestClassifier(n_estimators = 100) \n",
    " \n",
    "# Training the model on the training dataset\n",
    "# fit function is used to train the model using the training sets as parameters\n",
    "model.fit(X_train, y_train)\n",
    " \n",
    "# performing predictions on the test dataset\n",
    "y_pred = model.predict(X_test)\n",
    " \n",
    "# using metrics module for accuracy calculation\n",
    "print(\"ACCURACY OF THE MODEL: \", metrics.accuracy_score(y_test, y_pred))"
   ]
  },
  {
   "cell_type": "code",
   "execution_count": 43,
   "id": "4e2fa20c-d36c-42d7-a85c-52da5340ec38",
   "metadata": {
    "tags": []
   },
   "outputs": [
    {
     "data": {
      "text/plain": [
       "array([0])"
      ]
     },
     "execution_count": 43,
     "metadata": {},
     "output_type": "execute_result"
    }
   ],
   "source": [
    "# predicting which type of flower it is.\n",
    "model.predict([[3, 3, 2, 2]])"
   ]
  },
  {
   "cell_type": "markdown",
   "id": "fcd5f996-e09c-46a0-9892-fe8381e92f98",
   "metadata": {},
   "source": [
    "## Créez une application Streamlit à l’aide des fonctions « streamlit.title() » et « streamlit.header() » pour ajouter un titre et un en-tête à l’application."
   ]
  },
  {
   "cell_type": "code",
   "execution_count": 44,
   "id": "799c4fc2-6409-4dcc-9e7f-6bcf253a8e67",
   "metadata": {
    "tags": []
   },
   "outputs": [
    {
     "data": {
      "text/plain": [
       "DeltaGenerator()"
      ]
     },
     "execution_count": 44,
     "metadata": {},
     "output_type": "execute_result"
    }
   ],
   "source": [
    "st.title(\"IRIS APP\")"
   ]
  },
  {
   "cell_type": "code",
   "execution_count": 45,
   "id": "b43d3bb9-3cfe-4990-aa7e-77f5996a8f56",
   "metadata": {
    "tags": []
   },
   "outputs": [
    {
     "data": {
      "text/plain": [
       "DeltaGenerator()"
      ]
     },
     "execution_count": 45,
     "metadata": {},
     "output_type": "execute_result"
    }
   ],
   "source": [
    "st.header(\"IRIS datasets\")"
   ]
  },
  {
   "cell_type": "markdown",
   "id": "515435de-5b47-41c8-9416-6d2eb71e7acb",
   "metadata": {},
   "source": [
    "## Ajoutez des champs de saisie pour la longueur du sépale, la largeur du sépale, la longueur des pétales et la largeur des pétales à l’aide de la fonction « streamlit.slider() ». Utilisez les valeurs minimale, maximale et moyenne de chaque entité comme arguments pour la fonction."
   ]
  },
  {
   "cell_type": "code",
   "execution_count": 46,
   "id": "6d699fc1-0667-4f73-935c-f89e5b7fb873",
   "metadata": {
    "tags": []
   },
   "outputs": [
    {
     "data": {
      "text/plain": [
       "DeltaGenerator()"
      ]
     },
     "execution_count": 46,
     "metadata": {},
     "output_type": "execute_result"
    }
   ],
   "source": [
    "petal_width = st.slider(\"Select the petal width (cm)\", 1, 5,10)\n",
    "st.text('Selected: {}'.format(petal_width))\n",
    "petal_length = st.slider(\"Select the petal length (cm)\", 1, 5,10)\n",
    "st.text('Selected: {}'.format(petal_length))\n",
    "sepal_width = st.slider(\"Select the sepal width (cm)\", 1, 5,10)\n",
    "st.text('Selected: {}'.format(sepal_width))\n",
    "sepal_length = st.slider(\"Select the sepal length (cm)\", 1, 5,10)\n",
    "st.text('Selected: {}'.format(sepal_length))"
   ]
  },
  {
   "cell_type": "markdown",
   "id": "9b876476-66cb-436c-941d-5a06584a94c4",
   "metadata": {},
   "source": [
    "Définissez un bouton de prédiction à l’aide de la fonction « streamlit.button() » qui prend en compte les valeurs d’entrée et utilise le classificateur pour prédire le type de fleur d’iris.\n",
    "Utilisez la fonction « streamlit.write() » pour afficher le type de fleur d’iris prévu sur l’application.\n",
    "Déployer votre application streamlit avec streamlit share\"\"\""
   ]
  },
  {
   "cell_type": "code",
   "execution_count": 47,
   "id": "adcda23b-8e82-412f-9167-61b474773e5e",
   "metadata": {
    "tags": []
   },
   "outputs": [],
   "source": [
    "# Créez un bouton qui, lorsqu’on clique dessus, affiche un texte :\n",
    "if(st.button(\"prediction\")):\n",
    "    st.write(model.predict)\n",
    "    st.text(y_pred)"
   ]
  }
 ],
 "metadata": {
  "kernelspec": {
   "display_name": "Python 3 (ipykernel)",
   "language": "python",
   "name": "python3"
  },
  "language_info": {
   "codemirror_mode": {
    "name": "ipython",
    "version": 3
   },
   "file_extension": ".py",
   "mimetype": "text/x-python",
   "name": "python",
   "nbconvert_exporter": "python",
   "pygments_lexer": "ipython3",
   "version": "3.11.3"
  }
 },
 "nbformat": 4,
 "nbformat_minor": 5
}
